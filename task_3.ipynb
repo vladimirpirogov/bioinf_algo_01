{
 "cells": [
  {
   "cell_type": "markdown",
   "metadata": {},
   "source": [
    "# Домашнее задание 1\n",
    "\n",
    "Упражнение 3\n",
    "\n"
   ]
  },
  {
   "cell_type": "markdown",
   "metadata": {},
   "source": [
    "Как мы помним +1 сделан для того, чтобы унифицировать решениие, то есть для штрафа за пропуск. Поэтому таблица будет содержать на один столбец и на одну строку больше. Обращаю внимание, что невозможна ситуация замены пропуска на пропуск, поэтому я написал, что данное число не определенно. Однако в коде будет стоят 0, так как эту ячейку необходимо было как-то заполнить. Для начала проверим, что вообще всё работает корретно, для этого будем использовать таблицу такого вида. "
   ]
  },
  {
   "cell_type": "markdown",
   "metadata": {},
   "source": [
    "|   | -  | A  | B  | C  |\n",
    "| - | -  | -  | -  | -  |\n",
    "| - | und| -1 | -1 | -1 |\n",
    "| A | -1 | 1  | -1 | -1 |\n",
    "| B | -1 | -1 | 1  | -1 |\n",
    "| C | -1 | -1 | -1 | 1  |"
   ]
  },
  {
   "cell_type": "markdown",
   "metadata": {},
   "source": [
    "Создадим анализируемые последовательности"
   ]
  },
  {
   "cell_type": "code",
   "execution_count": 12,
   "metadata": {},
   "outputs": [],
   "source": [
    "import random"
   ]
  },
  {
   "cell_type": "code",
   "execution_count": 13,
   "metadata": {},
   "outputs": [],
   "source": [
    "def from_seq_to_str (x):\n",
    "    ans = ''\n",
    "    for i in range(len(x)):\n",
    "        ans += x[i]\n",
    "    return ans"
   ]
  },
  {
   "cell_type": "code",
   "execution_count": 14,
   "metadata": {},
   "outputs": [
    {
     "name": "stdout",
     "output_type": "stream",
     "text": [
      "BCABBCCCCACBBBCCBBCACCAAABBCB BACCBABBCCABABBBBBCABBAACB\n"
     ]
    }
   ],
   "source": [
    "k_a = random.randint(25, 35)\n",
    "k_b = random.randint(25, 35)\n",
    "\n",
    "a = from_seq_to_str(random.choices([str('A'), str('B'), str('C')],k = k_a))\n",
    "b = from_seq_to_str(random.choices([str('A'), str('B'), str('C')],k = k_b))\n",
    "\n",
    "print(a, b)"
   ]
  },
  {
   "cell_type": "markdown",
   "metadata": {},
   "source": [
    "Сначала проверим, что нам показывает новый алгоритм, с матрицей соответствующей предыдущему заданию."
   ]
  },
  {
   "cell_type": "code",
   "execution_count": 15,
   "metadata": {},
   "outputs": [],
   "source": [
    "def Global_Alignment_mass(a, b, m, alphabet):\n",
    "\n",
    "    length_a = len(a)\n",
    "    length_b = len(b)\n",
    "\n",
    "    s = []\n",
    "\n",
    "    for i in range(length_b + 1):\n",
    "        s.append([])\n",
    "        for j in range(length_a + 1):\n",
    "            if i == 0:\n",
    "                s[i].append(j*m[0][1])\n",
    "            elif j == 0:\n",
    "                s[i].append(i*m[0][1])\n",
    "            else:\n",
    "                s[i].append(0)\n",
    "\n",
    "\n",
    "    add = 0\n",
    "    for j in range(1, length_a + 1):\n",
    "        for i in range(1, length_b + 1):\n",
    "            s[i][j] = max(s[i-1][j-1] + m[alphabet[a[j-1]]][alphabet[b[i-1]]],\n",
    "                          s[i][j-1] + m[alphabet[a[j-1]]][alphabet['_']],\n",
    "                          s[i-1][j] + m[alphabet['_']][alphabet[b[i-1]]])\n",
    "\n",
    "\n",
    "\n",
    "    a_ans = ''\n",
    "    b_ans = ''\n",
    "    max_length = max(length_a, length_b)\n",
    "    cur_a_pos = length_a\n",
    "    cur_b_pos = length_b\n",
    "\n",
    "    while cur_b_pos + cur_a_pos != 0:\n",
    "\n",
    "        current_max = max(s[cur_b_pos - 1][cur_a_pos - 1] + m[alphabet[a[cur_a_pos - 1]]][alphabet[b[cur_b_pos - 1]]],\n",
    "                          s[cur_b_pos][cur_a_pos - 1] + m[alphabet[a[cur_a_pos - 1]]][alphabet['_']],\n",
    "                          s[cur_b_pos - 1][cur_a_pos] + m[alphabet['_']][alphabet[b[cur_b_pos - 1]]])\n",
    "\n",
    "        if (current_max == s[cur_b_pos - 1][cur_a_pos - 1] + m[alphabet[a[cur_a_pos - 1]]][alphabet[b[cur_b_pos - 1]]]) and (cur_a_pos > 0) and (cur_b_pos > 0 ):\n",
    "            a_ans += a[cur_a_pos - 1]\n",
    "            b_ans += b[cur_b_pos - 1]\n",
    "            cur_a_pos -= 1\n",
    "            cur_b_pos -= 1\n",
    "\n",
    "        elif ((current_max == s[cur_b_pos][cur_a_pos - 1] + m[alphabet[a[cur_a_pos - 1]]][alphabet['_']]) or (cur_b_pos == 0 )) and (cur_a_pos > 0):\n",
    "            a_ans += a[cur_a_pos - 1]\n",
    "            b_ans += '_'\n",
    "            cur_a_pos -= 1\n",
    "\n",
    "        else:\n",
    "            b_ans += b[cur_b_pos - 1]\n",
    "            a_ans += '_'\n",
    "            cur_b_pos -= 1\n",
    "    print(a_ans[::-1], b_ans[::-1])\n",
    "    return([a_ans[::-1], b_ans[::-1]])\n",
    "\n",
    "\n",
    "# first_answer_a = a_ans[::-1]\n",
    "# first_answer_b = b_ans[::-1]"
   ]
  },
  {
   "cell_type": "code",
   "execution_count": 16,
   "metadata": {},
   "outputs": [
    {
     "name": "stdout",
     "output_type": "stream",
     "text": [
      "B__C_ABBCCCCACBBBCCBBCACCAAABBCB BACCBABBCCABA_BBB__BBCA_BBAA__CB\n"
     ]
    }
   ],
   "source": [
    "m = [[0, -1, -1, -1], \n",
    "     [-1, 1, -1, -1], \n",
    "     [-1, -1, 1, -1], \n",
    "     [-1, -1, -1, 1]]\n",
    "\n",
    "alphabet = {'_': 0, 'A':1, 'B':2, 'C':3}\n",
    "\n",
    "first_answer_a, first_answer_b = Global_Alignment_mass(a, b, m, alphabet)"
   ]
  },
  {
   "cell_type": "markdown",
   "metadata": {},
   "source": [
    "Код  для решения задачи с зафиксированными штрафами занесовпадение и пропуск"
   ]
  },
  {
   "cell_type": "code",
   "execution_count": 17,
   "metadata": {},
   "outputs": [],
   "source": [
    "def Global_Alignment_without_mass(a, b, gap = -1 , mismatch = -1, bonus = 1):\n",
    "    length_a = len(a)\n",
    "    length_b = len(b)\n",
    "\n",
    "    s = []\n",
    "\n",
    "    # gap = -1\n",
    "    # mismatch = -1\n",
    "    # bonus = 1\n",
    "\n",
    "\n",
    "    for i in range(length_b + 1):\n",
    "        s.append([])\n",
    "        for j in range(length_a + 1):\n",
    "            if i == 0:\n",
    "                s[i].append(-j)\n",
    "            elif j == 0:\n",
    "                s[i].append(-i)\n",
    "            else:\n",
    "                s[i].append(0)\n",
    "\n",
    "\n",
    "    add = 0\n",
    "    for j in range(1, length_a + 1):\n",
    "        for i in range(1, length_b + 1):\n",
    "            if a[j - 1] == b[i - 1]:\n",
    "                add = bonus\n",
    "            else:\n",
    "                add = mismatch\n",
    "            s[i][j] = max(s[i-1][j-1] + add, s[i][j-1] + gap, s[i-1][j] + gap)\n",
    "\n",
    "\n",
    "    a_ans = ''\n",
    "    b_ans = ''\n",
    "    max_length = max(length_a, length_b)\n",
    "    current_a_possition = length_a\n",
    "    current_b_possition = length_b\n",
    "\n",
    "    while current_b_possition + current_a_possition != 0:\n",
    "\n",
    "        if a[current_a_possition - 1] == b[current_b_possition - 1]:\n",
    "            add = bonus\n",
    "        else:\n",
    "            add = mismatch\n",
    "\n",
    "        current_max = max(s[current_b_possition - 1][current_a_possition - 1] + add,\n",
    "                              s[current_b_possition    ][current_a_possition - 1] + gap,\n",
    "                              s[current_b_possition - 1][current_a_possition]     + gap)\n",
    "\n",
    "        if (current_max == s[current_b_possition - 1][current_a_possition - 1] + add) and (current_a_possition > 0) and (current_b_possition > 0 ):\n",
    "            a_ans += a[current_a_possition - 1]\n",
    "            b_ans += b[current_b_possition - 1]\n",
    "            current_a_possition -= 1\n",
    "            current_b_possition -= 1\n",
    "\n",
    "        elif ((current_max == s[current_b_possition][current_a_possition - 1] + gap) or (current_b_possition == 0)) and (current_a_possition > 0):\n",
    "            a_ans += a[current_a_possition - 1]\n",
    "            b_ans += '_'\n",
    "            current_a_possition -= 1\n",
    "\n",
    "        else:\n",
    "            b_ans += b[current_b_possition - 1]\n",
    "            a_ans += '_'\n",
    "            current_b_possition -= 1\n",
    "\n",
    "\n",
    "    print(a_ans[::-1], b_ans[::-1])\n",
    "    return([a_ans[::-1], b_ans[::-1]])\n",
    "# first_answer_a_check = a_ans[::-1]\n",
    "# first_answer_b_check = b_ans[::-1]"
   ]
  },
  {
   "cell_type": "code",
   "execution_count": 18,
   "metadata": {},
   "outputs": [
    {
     "name": "stdout",
     "output_type": "stream",
     "text": [
      "B__C_ABBCCCCACBBBCCBBCACCAAABBCB BACCBABBCCABA_BBB__BBCA_BBAA__CB\n"
     ]
    }
   ],
   "source": [
    "first_answer_a_check, first_answer_b_check = Global_Alignment_without_mass(a, b)"
   ]
  },
  {
   "cell_type": "markdown",
   "metadata": {},
   "source": [
    "Проверим, что ответы сошлись "
   ]
  },
  {
   "cell_type": "code",
   "execution_count": 19,
   "metadata": {},
   "outputs": [
    {
     "name": "stdout",
     "output_type": "stream",
     "text": [
      "All is OK\n"
     ]
    }
   ],
   "source": [
    "if (first_answer_a_check == first_answer_a) and (first_answer_b_check == first_answer_b):\n",
    "    print('All is OK')\n",
    "else:\n",
    "    print('There is some problem')"
   ]
  },
  {
   "cell_type": "markdown",
   "metadata": {},
   "source": [
    "Так как ответ ссошёлся, то теперь можно попробобовать с произвольной весовой матрицей. Например такой"
   ]
  },
  {
   "cell_type": "markdown",
   "metadata": {},
   "source": [
    "|   | -  | A  | B  | C  |\n",
    "| - | -  | -  | -  | -  |\n",
    "| - | und| -1 | -1 | -1 |\n",
    "| A | -1 | 2  | -6 | -7 |\n",
    "| B | -1 | -6 | 3  | -8 |\n",
    "| C | -1 | -7 | -8 | 4  |"
   ]
  },
  {
   "cell_type": "code",
   "execution_count": 20,
   "metadata": {},
   "outputs": [
    {
     "name": "stdout",
     "output_type": "stream",
     "text": [
      "B__C_ABBCC__CCACBBBCCBBCACCAAABB__CB BACCBABBCCAB__A_BBB__BB___C__ABBAACB\n"
     ]
    }
   ],
   "source": [
    "new_m_1 = [[0 , -1, -1, -1], \n",
    "           [-1,  2, -6, -7], \n",
    "           [-1, -6,  3, -8], \n",
    "        [-1, -7, -8,  1]]\n",
    "\n",
    "alphabet = {'_': 0, 'A':1, 'B':2, 'C':3}\n",
    "\n",
    "answer_new_mass_1 = Global_Alignment_mass(a, b, new_m_1, alphabet)"
   ]
  },
  {
   "cell_type": "markdown",
   "metadata": {},
   "source": [
    "Поменям в таблице масс одно число (на самом деле два, так как таблица обязана быть симметричной). Теперь таблица выглядит так."
   ]
  },
  {
   "cell_type": "markdown",
   "metadata": {},
   "source": [
    "|   | -  | A  | B  | C  |\n",
    "| - | -  | -  | -  | -  |\n",
    "| - | und| -1 | -1 | -1 |\n",
    "| A | -1 | 2  | -6 | -7 |\n",
    "| B | -1 | -6 | 3  | 0  |\n",
    "| C | -1 | -7 | 0  | 4  |"
   ]
  },
  {
   "cell_type": "code",
   "execution_count": 21,
   "metadata": {},
   "outputs": [
    {
     "name": "stdout",
     "output_type": "stream",
     "text": [
      "B__C_ABBCCCCACB_BBCCBBCACCAAABBCB BACCBABB__CCA_BABB_BBBCABB_AA__CB\n"
     ]
    }
   ],
   "source": [
    "new_m_2 = [[0 , -1, -1, -1], \n",
    "           [-1,  2, -6, -7], \n",
    "           [-1, -6,  3,  0], \n",
    "           [-1, -7,  0,  1]]\n",
    "\n",
    "alphabet = {'_': 0, 'A':1, 'B':2, 'C':3}\n",
    "\n",
    "answer_new_mass_2 = Global_Alignment_mass(a, b, new_m_2, alphabet)"
   ]
  },
  {
   "cell_type": "markdown",
   "metadata": {},
   "source": [
    "Проверим, что ответы изменились"
   ]
  },
  {
   "cell_type": "code",
   "execution_count": 22,
   "metadata": {},
   "outputs": [
    {
     "name": "stdout",
     "output_type": "stream",
     "text": [
      "Something change, look!\n",
      "B__C_ABBCC__CCACBBBCCBBCACCAAABB__CB BACCBABBCCAB__A_BBB__BB___C__ABBAACB\n",
      "B__C_ABBCCCCACB_BBCCBBCACCAAABBCB BACCBABB__CCA_BABB_BBBCABB_AA__CB\n"
     ]
    }
   ],
   "source": [
    "if answer_new_mass_2 != answer_new_mass_1:\n",
    "    print('Something change, look!')\n",
    "    print(*answer_new_mass_1)\n",
    "    print(*answer_new_mass_2)\n",
    "else:\n",
    "    print('Nothing change!')"
   ]
  },
  {
   "cell_type": "code",
   "execution_count": null,
   "metadata": {},
   "outputs": [],
   "source": []
  }
 ],
 "metadata": {
  "kernelspec": {
   "display_name": "Python 3",
   "language": "python",
   "name": "python3"
  },
  "language_info": {
   "codemirror_mode": {
    "name": "ipython",
    "version": 3
   },
   "file_extension": ".py",
   "mimetype": "text/x-python",
   "name": "python",
   "nbconvert_exporter": "python",
   "pygments_lexer": "ipython3",
   "version": "3.7.4"
  }
 },
 "nbformat": 4,
 "nbformat_minor": 2
}
